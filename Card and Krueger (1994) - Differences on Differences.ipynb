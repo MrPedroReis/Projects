{
 "cells": [
  {
   "attachments": {},
   "cell_type": "markdown",
   "metadata": {},
   "source": [
    "This Notebook is intended for a PhD subject of Econometric Methods in order to apply the Differences-in-Differences (DID) methodology.\n",
    "\n",
    "The dataset is adapted from the dataset in [Card and Krueger (1994)](https://davidcard.berkeley.edu/papers/njmin-aer.pdf), which estimates the causal effect of an increase in the state minimum wage on the employment. The full dataset can be downloaded [here](https://www.kaggle.com/datasets/harrywang/propensity-score-matching).\n",
    "\n",
    "The study at hand:\n",
    "On April 1, 1992, New Jersey raised the state minimum wage from 4.25 USD to 5.05 USD while the minimum wage in Pennsylvania stays the same at 4.25 USD. Data about employment in fast-food restaurants in NJ (0) and PA (1) were collected in February 1992 and in November 1992 from 384 restaurants in total after removing null values."
   ]
  },
  {
   "cell_type": "code",
   "execution_count": 3,
   "metadata": {},
   "outputs": [],
   "source": [
    "import pandas as pd"
   ]
  },
  {
   "cell_type": "code",
   "execution_count": 5,
   "metadata": {},
   "outputs": [
    {
     "name": "stdout",
     "output_type": "stream",
     "text": [
      "<class 'pandas.core.frame.DataFrame'>\n",
      "RangeIndex: 384 entries, 0 to 383\n",
      "Data columns (total 3 columns):\n",
      " #   Column         Non-Null Count  Dtype  \n",
      "---  ------         --------------  -----  \n",
      " 0   state          384 non-null    int64  \n",
      " 1   total_emp_feb  384 non-null    float64\n",
      " 2   total_emp_nov  384 non-null    float64\n",
      "dtypes: float64(2), int64(1)\n",
      "memory usage: 9.1 KB\n"
     ]
    }
   ],
   "source": [
    "df = pd.read_csv('propensity-score-matching/employment.csv')\n",
    "df.info()"
   ]
  },
  {
   "cell_type": "code",
   "execution_count": 6,
   "metadata": {},
   "outputs": [
    {
     "data": {
      "text/html": [
       "<div>\n",
       "<style scoped>\n",
       "    .dataframe tbody tr th:only-of-type {\n",
       "        vertical-align: middle;\n",
       "    }\n",
       "\n",
       "    .dataframe tbody tr th {\n",
       "        vertical-align: top;\n",
       "    }\n",
       "\n",
       "    .dataframe thead th {\n",
       "        text-align: right;\n",
       "    }\n",
       "</style>\n",
       "<table border=\"1\" class=\"dataframe\">\n",
       "  <thead>\n",
       "    <tr style=\"text-align: right;\">\n",
       "      <th></th>\n",
       "      <th>state</th>\n",
       "      <th>total_emp_feb</th>\n",
       "      <th>total_emp_nov</th>\n",
       "    </tr>\n",
       "  </thead>\n",
       "  <tbody>\n",
       "    <tr>\n",
       "      <th>0</th>\n",
       "      <td>0</td>\n",
       "      <td>40.50</td>\n",
       "      <td>24.0</td>\n",
       "    </tr>\n",
       "    <tr>\n",
       "      <th>1</th>\n",
       "      <td>0</td>\n",
       "      <td>13.75</td>\n",
       "      <td>11.5</td>\n",
       "    </tr>\n",
       "    <tr>\n",
       "      <th>2</th>\n",
       "      <td>0</td>\n",
       "      <td>8.50</td>\n",
       "      <td>10.5</td>\n",
       "    </tr>\n",
       "    <tr>\n",
       "      <th>3</th>\n",
       "      <td>0</td>\n",
       "      <td>34.00</td>\n",
       "      <td>20.0</td>\n",
       "    </tr>\n",
       "    <tr>\n",
       "      <th>4</th>\n",
       "      <td>0</td>\n",
       "      <td>24.00</td>\n",
       "      <td>35.5</td>\n",
       "    </tr>\n",
       "  </tbody>\n",
       "</table>\n",
       "</div>"
      ],
      "text/plain": [
       "   state  total_emp_feb  total_emp_nov\n",
       "0      0          40.50           24.0\n",
       "1      0          13.75           11.5\n",
       "2      0           8.50           10.5\n",
       "3      0          34.00           20.0\n",
       "4      0          24.00           35.5"
      ]
     },
     "execution_count": 6,
     "metadata": {},
     "output_type": "execute_result"
    }
   ],
   "source": [
    "df.head()"
   ]
  },
  {
   "cell_type": "code",
   "execution_count": 7,
   "metadata": {},
   "outputs": [
    {
     "data": {
      "text/html": [
       "<div>\n",
       "<style scoped>\n",
       "    .dataframe tbody tr th:only-of-type {\n",
       "        vertical-align: middle;\n",
       "    }\n",
       "\n",
       "    .dataframe tbody tr th {\n",
       "        vertical-align: top;\n",
       "    }\n",
       "\n",
       "    .dataframe thead th {\n",
       "        text-align: right;\n",
       "    }\n",
       "</style>\n",
       "<table border=\"1\" class=\"dataframe\">\n",
       "  <thead>\n",
       "    <tr style=\"text-align: right;\">\n",
       "      <th></th>\n",
       "      <th>total_emp_feb</th>\n",
       "      <th>total_emp_nov</th>\n",
       "    </tr>\n",
       "    <tr>\n",
       "      <th>state</th>\n",
       "      <th></th>\n",
       "      <th></th>\n",
       "    </tr>\n",
       "  </thead>\n",
       "  <tbody>\n",
       "    <tr>\n",
       "      <th>0</th>\n",
       "      <td>23.380000</td>\n",
       "      <td>21.096667</td>\n",
       "    </tr>\n",
       "    <tr>\n",
       "      <th>1</th>\n",
       "      <td>20.430583</td>\n",
       "      <td>20.897249</td>\n",
       "    </tr>\n",
       "  </tbody>\n",
       "</table>\n",
       "</div>"
      ],
      "text/plain": [
       "       total_emp_feb  total_emp_nov\n",
       "state                              \n",
       "0          23.380000      21.096667\n",
       "1          20.430583      20.897249"
      ]
     },
     "execution_count": 7,
     "metadata": {},
     "output_type": "execute_result"
    }
   ],
   "source": [
    "df.groupby('state').mean()"
   ]
  },
  {
   "cell_type": "code",
   "execution_count": 8,
   "metadata": {},
   "outputs": [
    {
     "name": "stdout",
     "output_type": "stream",
     "text": [
      "mean PA employment before: 23.38\n",
      "mean PA employment after: 21.10\n",
      "mean NJ employment before: 20.43\n",
      "mean NJ employment after: 20.90\n",
      "DID in mean employment is 2.75\n"
     ]
    }
   ],
   "source": [
    "# check by calculating the mean for each group directly\n",
    "# 0 PA control group, 1 NJ treatment group\n",
    "\n",
    "mean_emp_pa_before = df.groupby('state').mean().iloc[0, 0]\n",
    "mean_emp_pa_after = df.groupby('state').mean().iloc[0, 1]\n",
    "mean_emp_nj_before = df.groupby('state').mean().iloc[1, 0]\n",
    "mean_emp_nj_after = df.groupby('state').mean().iloc[1, 1]\n",
    "\n",
    "print(f'mean PA employment before: {mean_emp_pa_before:.2f}')\n",
    "print(f'mean PA employment after: {mean_emp_pa_after:.2f}')\n",
    "print(f'mean NJ employment before: {mean_emp_nj_before:.2f}')\n",
    "print(f'mean NJ employment after: {mean_emp_nj_after:.2f}')\n",
    "\n",
    "pa_diff = mean_emp_pa_after - mean_emp_pa_before\n",
    "nj_diff = mean_emp_nj_after - mean_emp_nj_before\n",
    "did = nj_diff - pa_diff\n",
    "\n",
    "print(f'DID in mean employment is {did:.2f}')"
   ]
  },
  {
   "attachments": {},
   "cell_type": "markdown",
   "metadata": {},
   "source": [
    "The calculation of DID is simple:\n",
    "\n",
    "- mean PA (control group) employee per restaurant before/after the treatment is 23.38/21.1, so the after/before difference for the control group is -2.28 (21.1 - 23.38)\n",
    "- mean NJ (treatment group) employee per restaurant before/after the treatment is 20.43/20.90, so the after/before difference for the treatment group is 0.47 (20.9 - 20.43)\n",
    "- the difference-in-differences (DID) is 2.75 (0.47 + 2.28), which is (the after/before difference of the treatment group) - (the after/before difference of the control group)\n",
    "\n",
    "The same DID result can be obtained via regression, which allows adding control variables if needed:\n",
    "\n",
    "$y = \\beta_0 + \\beta_1 * g + \\beta_2 * t + \\beta_3 * (t * g) + \\varepsilon$\n",
    "\n",
    "- g is 0 for the control group and 1 for the treatment group\n",
    "- t is 0 for before and 1 for after\n",
    "\n",
    "we can insert the values of g and t using the table below and see that coefficient ($\\beta_3$) of the interaction of g and t is the value for DID：\n",
    "\n",
    "|              | Control Group (g=0) | Treatment Group (g=1)                   |                 |\n",
    "|--------------|---------------------|-----------------------------------------|-----------------|\n",
    "| Before (t=0) | $\\beta_0$           | $\\beta_0 + \\beta_1$                     |                 |\n",
    "| After (t=1)  | $\\beta_0 + \\beta_2$ | $\\beta_0 + \\beta_1 + \\beta_2 + \\beta_3$ |                 |\n",
    "| Difference   | $\\beta_2$           | $\\beta_2 + \\beta_3$                     | $\\beta_3$ (DID) |\n"
   ]
  },
  {
   "cell_type": "code",
   "execution_count": 10,
   "metadata": {},
   "outputs": [
    {
     "data": {
      "text/html": [
       "<div>\n",
       "<style scoped>\n",
       "    .dataframe tbody tr th:only-of-type {\n",
       "        vertical-align: middle;\n",
       "    }\n",
       "\n",
       "    .dataframe tbody tr th {\n",
       "        vertical-align: top;\n",
       "    }\n",
       "\n",
       "    .dataframe thead th {\n",
       "        text-align: right;\n",
       "    }\n",
       "</style>\n",
       "<table border=\"1\" class=\"dataframe\">\n",
       "  <thead>\n",
       "    <tr style=\"text-align: right;\">\n",
       "      <th></th>\n",
       "      <th>total_emp</th>\n",
       "      <th>g</th>\n",
       "      <th>t</th>\n",
       "      <th>gt</th>\n",
       "    </tr>\n",
       "  </thead>\n",
       "  <tbody>\n",
       "    <tr>\n",
       "      <th>0</th>\n",
       "      <td>40.50</td>\n",
       "      <td>0</td>\n",
       "      <td>0</td>\n",
       "      <td>0</td>\n",
       "    </tr>\n",
       "    <tr>\n",
       "      <th>1</th>\n",
       "      <td>13.75</td>\n",
       "      <td>0</td>\n",
       "      <td>0</td>\n",
       "      <td>0</td>\n",
       "    </tr>\n",
       "    <tr>\n",
       "      <th>2</th>\n",
       "      <td>8.50</td>\n",
       "      <td>0</td>\n",
       "      <td>0</td>\n",
       "      <td>0</td>\n",
       "    </tr>\n",
       "    <tr>\n",
       "      <th>3</th>\n",
       "      <td>34.00</td>\n",
       "      <td>0</td>\n",
       "      <td>0</td>\n",
       "      <td>0</td>\n",
       "    </tr>\n",
       "    <tr>\n",
       "      <th>4</th>\n",
       "      <td>24.00</td>\n",
       "      <td>0</td>\n",
       "      <td>0</td>\n",
       "      <td>0</td>\n",
       "    </tr>\n",
       "    <tr>\n",
       "      <th>...</th>\n",
       "      <td>...</td>\n",
       "      <td>...</td>\n",
       "      <td>...</td>\n",
       "      <td>...</td>\n",
       "    </tr>\n",
       "    <tr>\n",
       "      <th>379</th>\n",
       "      <td>23.75</td>\n",
       "      <td>1</td>\n",
       "      <td>1</td>\n",
       "      <td>1</td>\n",
       "    </tr>\n",
       "    <tr>\n",
       "      <th>380</th>\n",
       "      <td>17.50</td>\n",
       "      <td>1</td>\n",
       "      <td>1</td>\n",
       "      <td>1</td>\n",
       "    </tr>\n",
       "    <tr>\n",
       "      <th>381</th>\n",
       "      <td>20.50</td>\n",
       "      <td>1</td>\n",
       "      <td>1</td>\n",
       "      <td>1</td>\n",
       "    </tr>\n",
       "    <tr>\n",
       "      <th>382</th>\n",
       "      <td>20.50</td>\n",
       "      <td>1</td>\n",
       "      <td>1</td>\n",
       "      <td>1</td>\n",
       "    </tr>\n",
       "    <tr>\n",
       "      <th>383</th>\n",
       "      <td>25.00</td>\n",
       "      <td>1</td>\n",
       "      <td>1</td>\n",
       "      <td>1</td>\n",
       "    </tr>\n",
       "  </tbody>\n",
       "</table>\n",
       "<p>768 rows × 4 columns</p>\n",
       "</div>"
      ],
      "text/plain": [
       "     total_emp  g  t  gt\n",
       "0        40.50  0  0   0\n",
       "1        13.75  0  0   0\n",
       "2         8.50  0  0   0\n",
       "3        34.00  0  0   0\n",
       "4        24.00  0  0   0\n",
       "..         ... .. ..  ..\n",
       "379      23.75  1  1   1\n",
       "380      17.50  1  1   1\n",
       "381      20.50  1  1   1\n",
       "382      20.50  1  1   1\n",
       "383      25.00  1  1   1\n",
       "\n",
       "[768 rows x 4 columns]"
      ]
     },
     "execution_count": 10,
     "metadata": {},
     "output_type": "execute_result"
    }
   ],
   "source": [
    "# group g: 0 control group (PA), 1 treatment group (NJ)\n",
    "# t: 0 before treatment (min wage raise), 1 after treatment\n",
    "# gt: interaction of g * t\n",
    "\n",
    "# data before the treatment\n",
    "df_before = df[['total_emp_feb', 'state']]\n",
    "df_before['t'] = 0\n",
    "df_before.columns = ['total_emp', 'g', 't']\n",
    "\n",
    "# data after the treatment\n",
    "df_after = df[['total_emp_nov', 'state']]\n",
    "df_after['t'] = 1\n",
    "df_after.columns = ['total_emp', 'g', 't']\n",
    "\n",
    "# data for regression\n",
    "df_reg = pd.concat([df_before, df_after])\n",
    "\n",
    "# create the interaction \n",
    "df_reg['gt'] = df_reg.g * df_reg.t\n",
    "\n",
    "df_reg"
   ]
  },
  {
   "cell_type": "code",
   "execution_count": 11,
   "metadata": {},
   "outputs": [
    {
     "data": {
      "text/plain": [
       "array([-2.94941748, -2.28333333,  2.75      ])"
      ]
     },
     "execution_count": 11,
     "metadata": {},
     "output_type": "execute_result"
    }
   ],
   "source": [
    "# regression via sklearn\n",
    "from sklearn.linear_model import LinearRegression\n",
    "lr = LinearRegression()\n",
    "\n",
    "X = df_reg[['g', 't', 'gt']]\n",
    "y = df_reg.total_emp\n",
    "\n",
    "lr.fit(X, y)\n",
    "lr.coef_  # the coefficient for gt is the DID, which is 2.75"
   ]
  },
  {
   "cell_type": "code",
   "execution_count": 12,
   "metadata": {},
   "outputs": [
    {
     "name": "stdout",
     "output_type": "stream",
     "text": [
      "                            OLS Regression Results                            \n",
      "==============================================================================\n",
      "Dep. Variable:              total_emp   R-squared:                       0.008\n",
      "Model:                            OLS   Adj. R-squared:                  0.004\n",
      "Method:                 Least Squares   F-statistic:                     1.947\n",
      "Date:                Mon, 22 May 2023   Prob (F-statistic):              0.121\n",
      "Time:                        18:34:40   Log-Likelihood:                -2817.6\n",
      "No. Observations:                 768   AIC:                             5643.\n",
      "Df Residuals:                     764   BIC:                             5662.\n",
      "Df Model:                           3                                         \n",
      "Covariance Type:            nonrobust                                         \n",
      "==============================================================================\n",
      "                 coef    std err          t      P>|t|      [0.025      0.975]\n",
      "------------------------------------------------------------------------------\n",
      "Intercept     23.3800      1.098     21.288      0.000      21.224      25.536\n",
      "g             -2.9494      1.224     -2.409      0.016      -5.353      -0.546\n",
      "t             -2.2833      1.553     -1.470      0.142      -5.332       0.766\n",
      "gt             2.7500      1.731      1.588      0.113      -0.649       6.149\n",
      "==============================================================================\n",
      "Omnibus:                      212.243   Durbin-Watson:                   1.835\n",
      "Prob(Omnibus):                  0.000   Jarque-Bera (JB):              761.734\n",
      "Skew:                           1.278   Prob(JB):                    3.90e-166\n",
      "Kurtosis:                       7.155   Cond. No.                         11.3\n",
      "==============================================================================\n",
      "\n",
      "Notes:\n",
      "[1] Standard Errors assume that the covariance matrix of the errors is correctly specified.\n"
     ]
    }
   ],
   "source": [
    "# regression via statsmodels\n",
    "# result is not significant \n",
    "\n",
    "from statsmodels.formula.api import ols\n",
    "ols = ols('total_emp ~ g + t + gt', data=df_reg).fit()\n",
    "print(ols.summary())"
   ]
  },
  {
   "attachments": {},
   "cell_type": "markdown",
   "metadata": {},
   "source": [
    "\n",
    "The p-value for $\\beta_3$ in this example is not significant, which means that the average total employees per restaurant increased after the minimal salary raise by 2.75 FTE (full-time equivalent) but the result may be just due to random factors."
   ]
  },
  {
   "attachments": {},
   "cell_type": "markdown",
   "metadata": {},
   "source": []
  }
 ],
 "metadata": {
  "kernelspec": {
   "display_name": "base",
   "language": "python",
   "name": "python3"
  },
  "language_info": {
   "codemirror_mode": {
    "name": "ipython",
    "version": 3
   },
   "file_extension": ".py",
   "mimetype": "text/x-python",
   "name": "python",
   "nbconvert_exporter": "python",
   "pygments_lexer": "ipython3",
   "version": "3.9.7"
  },
  "orig_nbformat": 4
 },
 "nbformat": 4,
 "nbformat_minor": 2
}
